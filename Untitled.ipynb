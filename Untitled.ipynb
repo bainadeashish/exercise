{
 "cells": [
  {
   "cell_type": "code",
   "execution_count": null,
   "id": "c38d191c",
   "metadata": {},
   "outputs": [],
   "source": [
    "from lxml import html\n",
    "import re\n",
    "import requests\n",
    "\n",
    "def get_packages(language='python'):\n",
    "    \"\"\" populate available packages from the pip registry \"\"\"\n",
    "    app = get_application()\n",
    "    if language == 'r':\n",
    "        registry = \"https://cran.r-project.org/web/packages/available_packages_by_name.html#available-packages-Z\"\n",
    "    response = requests.get(registry) \n",
    "    response.raise_for_status()\n",
    "    html_tree = html.fromstring(response.content)\n",
    "    # pylint: disable=unnecessary-comprehension\n",
    "    packages = [generate_packages(package, app.config['ARTIFACTORY'], language)\n",
    "                for package in html_tree.xpath('//a/text()')\n",
    "                if generate_packages(package, app.config['ARTIFACTORY'], language) is not None]\n",
    "\n",
    "    # Remove redundant packages & versions pair\n",
    "    if language == 'conda':\n",
    "        packages = [i for n, i in enumerate(packages) if i not in packages[n + 1:]]\n",
    "    return packages\n",
    "\n",
    "\n",
    "# pylint: disable=inconsistent-return-statements\n",
    "def generate_packages(package, artifactory, language):\n",
    "    \"\"\" generate dict object for all the packages \"\"\"\n",
    "    if artifactory and language == 'r':\n",
    "        if package.endswith('.tar.gz'):\n",
    "            package_name = package.split(\"_\")[0]\n",
    "            package_version = re.search('_(.*).tar', package).group(1)\n",
    "            return {\"name\": package_name, \"version\": package_version}\n",
    "    elif language in [\"conda\", \"conda-r\"]:\n",
    "        if package.endswith('tar.bz2'):\n",
    "            package_name_list = package.split(\"-\")\n",
    "            build_name = package_name_list[-1]\n",
    "            package_version = package_name_list[-2]\n",
    "            package_name = \"-\".join(package_name_list[:-2])\n",
    "            py_version = re.search(\"(py[0-9]{2})+\", build_name)\n",
    "            py_version = py_version.group() if py_version else \"NA\"\n",
    "            if language == \"conda\":\n",
    "                return {\"name\": package_name, \"version\": package_version, \"python_version\": py_version}\n",
    "            return {\"name\": package_name}\n",
    "    else:\n",
    "        return {\"name\": package}\n",
    "    \n",
    "def create_index(refresh=False, language='python'):\n",
    "    \"\"\" Create ES index \"\"\"\n",
    "    if language == 'r':\n",
    "        alias_name = 'cran'\n",
    "        packages = get_packages(language)\n",
    "\n",
    "    package_list = []\n",
    "\n",
    "    # pylint: disable=unexpected-keyword-arg\n",
    "    for package in packages:\n",
    "        if \"href=\" not in package:\n",
    "            save_package_data(package, language)\n",
    "            package_list.append(package['name'])\n",
    "\n",
    "    if len(package_list) > 0:\n",
    "        delete_missing_packages(package_list, language)\n",
    "\n",
    "create_index('r')"
   ]
  },
  {
   "cell_type": "code",
   "execution_count": null,
   "id": "048420d5-5312-48ab-9ed6-08f1708566fe",
   "metadata": {},
   "outputs": [],
   "source": [
    "!pip install lxml==4.9.1"
   ]
  },
  {
   "cell_type": "code",
   "execution_count": null,
   "id": "7306cee0-6f39-4ed5-8574-ae74e3215da0",
   "metadata": {},
   "outputs": [],
   "source": []
  }
 ],
 "metadata": {
  "kernelspec": {
   "display_name": "Python 3",
   "language": "python",
   "name": "python3"
  },
  "language_info": {
   "codemirror_mode": {
    "name": "ipython",
    "version": 3
   },
   "file_extension": ".py",
   "mimetype": "text/x-python",
   "name": "python",
   "nbconvert_exporter": "python",
   "pygments_lexer": "ipython3",
   "version": "3.10.10"
  }
 },
 "nbformat": 4,
 "nbformat_minor": 5
}
