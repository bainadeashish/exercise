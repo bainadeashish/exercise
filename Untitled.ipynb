{
 "cells": [
  {
   "cell_type": "code",
   "execution_count": null,
   "id": "c38d191c",
   "metadata": {},
   "outputs": [
    {
     "name": "stdout",
     "output_type": "stream",
     "text": [
      "https://cran.r-project.org/web/packages/available_packages_by_name.html#available-packages-Z\n",
      "<Element html at 0x7f8f933c78d0>\n",
      "> \u001b[0;32m<ipython-input-10-d8ee22c34a3d>\u001b[0m(16)\u001b[0;36mget_packages\u001b[0;34m()\u001b[0m\n",
      "\u001b[0;32m     14 \u001b[0;31m    \u001b[0mpdb\u001b[0m\u001b[0;34m.\u001b[0m\u001b[0mset_trace\u001b[0m\u001b[0;34m(\u001b[0m\u001b[0;34m)\u001b[0m\u001b[0;34m\u001b[0m\u001b[0;34m\u001b[0m\u001b[0m\n",
      "\u001b[0m\u001b[0;32m     15 \u001b[0;31m    \u001b[0;31m# pylint: disable=unnecessary-comprehension\u001b[0m\u001b[0;34m\u001b[0m\u001b[0;34m\u001b[0m\u001b[0m\n",
      "\u001b[0m\u001b[0;32m---> 16 \u001b[0;31m    packages = [generate_packages(package, False, language)\n",
      "\u001b[0m\u001b[0;32m     17 \u001b[0;31m                \u001b[0;32mfor\u001b[0m \u001b[0mpackage\u001b[0m \u001b[0;32min\u001b[0m \u001b[0mhtml_tree\u001b[0m\u001b[0;34m.\u001b[0m\u001b[0mxpath\u001b[0m\u001b[0;34m(\u001b[0m\u001b[0;34m'//a/text()'\u001b[0m\u001b[0;34m)\u001b[0m\u001b[0;34m\u001b[0m\u001b[0;34m\u001b[0m\u001b[0m\n",
      "\u001b[0m\u001b[0;32m     18 \u001b[0;31m                if generate_packages(package, False, language) is not None]\n",
      "\u001b[0m\n"
     ]
    },
    {
     "name": "stdin",
     "output_type": "stream",
     "text": [
      "ipdb>  html_tree.xpath('//a/text()')[0]\n"
     ]
    },
    {
     "name": "stdout",
     "output_type": "stream",
     "text": [
      "*** IndexError: list index out of range\n"
     ]
    },
    {
     "name": "stdin",
     "output_type": "stream",
     "text": [
      "ipdb>  html_tree.xpath('//a/text()')\n"
     ]
    },
    {
     "name": "stdout",
     "output_type": "stream",
     "text": [
      "[]\n"
     ]
    },
    {
     "name": "stdin",
     "output_type": "stream",
     "text": [
      "ipdb>  html_tree\n"
     ]
    },
    {
     "name": "stdout",
     "output_type": "stream",
     "text": [
      "<Element html at 0x7f8f933c78d0>\n"
     ]
    },
    {
     "name": "stdin",
     "output_type": "stream",
     "text": [
      "ipdb>  dir(html_tree)\n"
     ]
    },
    {
     "name": "stdout",
     "output_type": "stream",
     "text": [
      "['__bool__', '__class__', '__contains__', '__copy__', '__deepcopy__', '__delattr__', '__delitem__', '__dict__', '__dir__', '__doc__', '__eq__', '__format__', '__ge__', '__getattribute__', '__getitem__', '__gt__', '__hash__', '__init__', '__init_subclass__', '__iter__', '__le__', '__len__', '__lt__', '__module__', '__ne__', '__new__', '__reduce__', '__reduce_ex__', '__repr__', '__reversed__', '__setattr__', '__setitem__', '__sizeof__', '__str__', '__subclasshook__', '__weakref__', '_init', 'addnext', 'addprevious', 'append', 'attrib', 'base', 'base_url', 'body', 'classes', 'clear', 'cssselect', 'drop_tag', 'drop_tree', 'extend', 'find', 'find_class', 'find_rel_links', 'findall', 'findtext', 'forms', 'get', 'get_element_by_id', 'getchildren', 'getiterator', 'getnext', 'getparent', 'getprevious', 'getroottree', 'head', 'index', 'insert', 'items', 'iter', 'iterancestors', 'iterchildren', 'iterdescendants', 'iterfind', 'iterlinks', 'itersiblings', 'itertext', 'keys', 'label', 'make_links_absolute', 'makeelement', 'nsmap', 'prefix', 'remove', 'replace', 'resolve_base_href', 'rewrite_links', 'set', 'sourceline', 'tag', 'tail', 'text', 'text_content', 'values', 'xpath']\n"
     ]
    },
    {
     "name": "stdin",
     "output_type": "stream",
     "text": [
      "ipdb>  html_tree.text\n"
     ]
    },
    {
     "name": "stdout",
     "output_type": "stream",
     "text": [
      "'\\n'\n"
     ]
    }
   ],
   "source": [
    "from lxml import html\n",
    "import re\n",
    "import requests\n",
    "\n",
    "def get_packages(language='python'):\n",
    "    \"\"\" populate available packages from the pip registry \"\"\"\n",
    "    registry = \"https://cran.r-project.org/web/packages/available_packages_by_name.html#available-packages-Z\"\n",
    "    response = requests.get(registry) \n",
    "    response.raise_for_status()\n",
    "    html_tree = html.fromstring(response.content)\n",
    "    print(registry)\n",
    "    print(html_tree)\n",
    "    import pdb\n",
    "    pdb.set_trace()\n",
    "    # pylint: disable=unnecessary-comprehension\n",
    "    packages = [generate_packages(package, False, language)\n",
    "                for package in html_tree.xpath('//a/text()')\n",
    "                if generate_packages(package, False, language) is not None]\n",
    "\n",
    "    # Remove redundant packages & versions pair\n",
    "    if language == 'conda':\n",
    "        packages = [i for n, i in enumerate(packages) if i not in packages[n + 1:]]\n",
    "    return packages\n",
    "\n",
    "\n",
    "# pylint: disable=inconsistent-return-statements\n",
    "def generate_packages(package, artifactory, language):\n",
    "    \"\"\" generate dict object for all the packages \"\"\"\n",
    "    print(package,artifactory,language)\n",
    "    if artifactory and language == 'r':\n",
    "        if package.endswith('.tar.gz'):\n",
    "            package_name = package.split(\"_\")[0]\n",
    "            package_version = re.search('_(.*).tar', package).group(1)\n",
    "            return {\"name\": package_name, \"version\": package_version}\n",
    "    elif language in [\"conda\", \"conda-r\"]:\n",
    "        if package.endswith('tar.bz2'):\n",
    "            package_name_list = package.split(\"-\")\n",
    "            build_name = package_name_list[-1]\n",
    "            package_version = package_name_list[-2]\n",
    "            package_name = \"-\".join(package_name_list[:-2])\n",
    "            py_version = re.search(\"(py[0-9]{2})+\", build_name)\n",
    "            py_version = py_version.group() if py_version else \"NA\"\n",
    "            if language == \"conda\":\n",
    "                return {\"name\": package_name, \"version\": package_version, \"python_version\": py_version}\n",
    "            return {\"name\": package_name}\n",
    "    else:\n",
    "        print(\"here\")\n",
    "        print(package)\n",
    "        return {\"name\": package}\n",
    "    \n",
    "def create_index(refresh=False, language='python'):\n",
    "    \"\"\" Create ES index \"\"\"\n",
    "    packages = get_packages(language)\n",
    "    package_list = []\n",
    "    print(packages)\n",
    "\n",
    "    # pylint: disable=unexpected-keyword-arg\n",
    "    for package in packages:\n",
    "        if \"href=\" not in package:\n",
    "            save_package_data(package, language)\n",
    "            package_list.append(package['name'])\n",
    "\n",
    "    if len(package_list) > 0:\n",
    "        delete_missing_packages(package_list, language)\n",
    "\n",
    "create_index('r')"
   ]
  },
  {
   "cell_type": "code",
   "execution_count": null,
   "id": "048420d5-5312-48ab-9ed6-08f1708566fe",
   "metadata": {},
   "outputs": [],
   "source": []
  },
  {
   "cell_type": "code",
   "execution_count": null,
   "id": "7306cee0-6f39-4ed5-8574-ae74e3215da0",
   "metadata": {},
   "outputs": [],
   "source": []
  }
 ],
 "metadata": {
  "kernelspec": {
   "display_name": "Python 3",
   "language": "python",
   "name": "python3"
  },
  "language_info": {
   "codemirror_mode": {
    "name": "ipython",
    "version": 3
   },
   "file_extension": ".py",
   "mimetype": "text/x-python",
   "name": "python",
   "nbconvert_exporter": "python",
   "pygments_lexer": "ipython3",
   "version": "3.10.10"
  }
 },
 "nbformat": 4,
 "nbformat_minor": 5
}
